{
 "cells": [
  {
   "cell_type": "markdown",
   "metadata": {
    "id": "y0zHeOKiivub"
   },
   "source": [
    "# Eesmärk\r\n",
    "Luua funktsioon *getCommand(image)*.\r\n",
    "Funktsioon võtab ette pildifaili ja tagastab enumi pildil olevast käsust näiteks sõnena.   \r\n",
    "Funktsioonile tuleb lisada ka tõenäoliselt parameeter *mudel* või mingi muu lahendus teha nii, et funktsioon ise mudelit ei valmista. Mudel peaks olema valmis juba enne ja mängu ajal peaks see funktsioon tagastama vastuse kiiresti (alla 1 sekundi kindlasti). Muidu lihtsalt mäng hakkab hakkima.\r\n",
    "\r\n",
    "### Version 1.1 - Katame mängu tegevuse käskudega\r\n",
    "Mängu ajal peab olema võimalik kasutada kolme käsku: vasakule, paremale ja power.\r\n",
    "Võimalikud tagastusväärtused funktsioonile *getCommand(image)*:\r\n",
    "\r\n",
    "\r\n",
    "*   \"vasak\"\r\n",
    "*   \"parem\"\r\n",
    "*   \"power\"\r\n",
    "*   \"undefined\"\r\n",
    "\r\n",
    "### Version 1.2 - Katame ka mängus navigeerimise käskudega\r\n",
    "Edasiarendusena võime katta ka mängus navigeerimise nupud käskudega.\r\n",
    "\r\n",
    "\r\n",
    "\r\n"
   ]
  }
 ],
 "metadata": {
  "colab": {
   "name": "AI-game-command-dev.ipynb",
   "provenance": []
  },
  "kernelspec": {
   "name": "python3",
   "display_name": "Python 3"
  }
 },
 "nbformat": 4,
 "nbformat_minor": 0
}
